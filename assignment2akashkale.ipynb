{
 "cells": [
  {
   "cell_type": "code",
   "execution_count": 5,
   "id": "dca6a1cb-13e4-4cd1-bc58-a8874f0ab901",
   "metadata": {},
   "outputs": [],
   "source": [
    "import pandas as pd"
   ]
  },
  {
   "cell_type": "code",
   "execution_count": 7,
   "id": "06c61208-75bc-4437-8de8-0719b95b0aed",
   "metadata": {},
   "outputs": [],
   "source": [
    "import numpy as np\n",
    "import re"
   ]
  },
  {
   "cell_type": "code",
   "execution_count": 9,
   "id": "a83cb57f-a980-4342-a81c-f798d8abbf8b",
   "metadata": {},
   "outputs": [],
   "source": [
    "data = {\n",
    "    'Visitor_ID': [f'V{1000 + i}' for i in range(20)],\n",
    "    'Name': ['ABHISHEK SANDEEP      ZADE     ', 'ARNAV AJAY DESHPANDE.. ', '.. .. ASHWINI LALCHAND MUNDAWARE/ ', 'GAYATRI SURESH GAIKWAD', 'HARSHADA GANESH CHAUDHARI',\n",
    "             'VAIBHAVI HARISHWAR PATIL', np.nan, 'VISHAKHA PUNDLIK JADHAV', 'YASH BHARAT SOLUNKE/', 'VIVEK SANTOSH KHANDWE',\n",
    "             'VISHAKHA PUNDLIK JADHAV', 'Tanushree chhanwal', 'Shruti jaiswal', 'Shriyash Sulakhe', 'YASH BHARAT SOLUNKE',\n",
    "             np.nan, 'ARNAV AJAY DESHPANDE', 'RUTUJA SANTOSH THOTE', 'ROHIT DILIP BILWAL', 'RITESH SHIVAJI BAIRAGI'],\n",
    "    'Age': [25, 23, 22, np.nan, 21, 25, 24, 24, 28, np.nan,\n",
    "            22, 23, 25, 27, 25, 30, 31, 26, 19, 19],\n",
    "    'Ticket_Price': [500, 750, 500, 1000, np.nan, 500, 700, 650, 750, 1000,\n",
    "                      500, 800, np.nan, 750, 500, 700, 900, 850, 750, np.nan],\n",
    "    'Check_In_Time': ['10:00 AM', '10:30 AM', '11:00 AM', '11:30 AM', np.nan,\n",
    "                       '10:00 AM', '12:00 PM', '12:30 PM', '01:00 PM', '01:30 PM',\n",
    "                       '11:00 AM', '02:00 PM', np.nan, '02:30 PM', '10:00 AM',\n",
    "                       '12:00 PM', '03:00 PM', '03:30 PM', '04:00 PM', np.nan],\n",
    "    'City':['Delhi','Aurangabad', 'Mumbai','Bombay','New Delhi','NDL','Chennai','Chenai','Chennaai','Bangalore',\n",
    "            'Delhi','Pune', 'New Delhi','Bombay','New Delhi','NDL','Indore','Bangalore','Ujjain','Bangalore'],\n",
    "    'State': ['Delhi','Maharastra', 'Maharastra','Maharastra','Delhi','Delhi','Tamilnadu','Tamilnadu','Tamilnadu','Karnataka',\n",
    "            'Delhi','Maharastra', 'Delhi','Maharastra','Delhi','Delhi','Madhya Pradesh','Karnataka','Madhya Pradesh','Karnataka']\n",
    "}\n"
   ]
  },
  {
   "cell_type": "code",
   "execution_count": 11,
   "id": "ba65c6a9-8334-44a3-a478-34a136b53bb5",
   "metadata": {},
   "outputs": [
    {
     "data": {
      "text/html": [
       "<div>\n",
       "<style scoped>\n",
       "    .dataframe tbody tr th:only-of-type {\n",
       "        vertical-align: middle;\n",
       "    }\n",
       "\n",
       "    .dataframe tbody tr th {\n",
       "        vertical-align: top;\n",
       "    }\n",
       "\n",
       "    .dataframe thead th {\n",
       "        text-align: right;\n",
       "    }\n",
       "</style>\n",
       "<table border=\"1\" class=\"dataframe\">\n",
       "  <thead>\n",
       "    <tr style=\"text-align: right;\">\n",
       "      <th></th>\n",
       "      <th>Visitor_ID</th>\n",
       "      <th>Name</th>\n",
       "      <th>Age</th>\n",
       "      <th>Ticket_Price</th>\n",
       "      <th>Check_In_Time</th>\n",
       "      <th>City</th>\n",
       "      <th>State</th>\n",
       "    </tr>\n",
       "  </thead>\n",
       "  <tbody>\n",
       "    <tr>\n",
       "      <th>0</th>\n",
       "      <td>V1000</td>\n",
       "      <td>ABHISHEK SANDEEP      ZADE</td>\n",
       "      <td>25.0</td>\n",
       "      <td>500.0</td>\n",
       "      <td>10:00 AM</td>\n",
       "      <td>Delhi</td>\n",
       "      <td>Delhi</td>\n",
       "    </tr>\n",
       "    <tr>\n",
       "      <th>1</th>\n",
       "      <td>V1001</td>\n",
       "      <td>ARNAV AJAY DESHPANDE..</td>\n",
       "      <td>23.0</td>\n",
       "      <td>750.0</td>\n",
       "      <td>10:30 AM</td>\n",
       "      <td>Aurangabad</td>\n",
       "      <td>Maharastra</td>\n",
       "    </tr>\n",
       "    <tr>\n",
       "      <th>2</th>\n",
       "      <td>V1002</td>\n",
       "      <td>.. .. ASHWINI LALCHAND MUNDAWARE/</td>\n",
       "      <td>22.0</td>\n",
       "      <td>500.0</td>\n",
       "      <td>11:00 AM</td>\n",
       "      <td>Mumbai</td>\n",
       "      <td>Maharastra</td>\n",
       "    </tr>\n",
       "    <tr>\n",
       "      <th>3</th>\n",
       "      <td>V1003</td>\n",
       "      <td>GAYATRI SURESH GAIKWAD</td>\n",
       "      <td>NaN</td>\n",
       "      <td>1000.0</td>\n",
       "      <td>11:30 AM</td>\n",
       "      <td>Bombay</td>\n",
       "      <td>Maharastra</td>\n",
       "    </tr>\n",
       "    <tr>\n",
       "      <th>4</th>\n",
       "      <td>V1004</td>\n",
       "      <td>HARSHADA GANESH CHAUDHARI</td>\n",
       "      <td>21.0</td>\n",
       "      <td>NaN</td>\n",
       "      <td>NaN</td>\n",
       "      <td>New Delhi</td>\n",
       "      <td>Delhi</td>\n",
       "    </tr>\n",
       "    <tr>\n",
       "      <th>5</th>\n",
       "      <td>V1005</td>\n",
       "      <td>VAIBHAVI HARISHWAR PATIL</td>\n",
       "      <td>25.0</td>\n",
       "      <td>500.0</td>\n",
       "      <td>10:00 AM</td>\n",
       "      <td>NDL</td>\n",
       "      <td>Delhi</td>\n",
       "    </tr>\n",
       "    <tr>\n",
       "      <th>6</th>\n",
       "      <td>V1006</td>\n",
       "      <td>NaN</td>\n",
       "      <td>24.0</td>\n",
       "      <td>700.0</td>\n",
       "      <td>12:00 PM</td>\n",
       "      <td>Chennai</td>\n",
       "      <td>Tamilnadu</td>\n",
       "    </tr>\n",
       "  </tbody>\n",
       "</table>\n",
       "</div>"
      ],
      "text/plain": [
       "  Visitor_ID                                Name   Age  Ticket_Price  \\\n",
       "0      V1000     ABHISHEK SANDEEP      ZADE       25.0         500.0   \n",
       "1      V1001             ARNAV AJAY DESHPANDE..   23.0         750.0   \n",
       "2      V1002  .. .. ASHWINI LALCHAND MUNDAWARE/   22.0         500.0   \n",
       "3      V1003              GAYATRI SURESH GAIKWAD   NaN        1000.0   \n",
       "4      V1004           HARSHADA GANESH CHAUDHARI  21.0           NaN   \n",
       "5      V1005            VAIBHAVI HARISHWAR PATIL  25.0         500.0   \n",
       "6      V1006                                 NaN  24.0         700.0   \n",
       "\n",
       "  Check_In_Time        City       State  \n",
       "0      10:00 AM       Delhi       Delhi  \n",
       "1      10:30 AM  Aurangabad  Maharastra  \n",
       "2      11:00 AM      Mumbai  Maharastra  \n",
       "3      11:30 AM      Bombay  Maharastra  \n",
       "4           NaN   New Delhi       Delhi  \n",
       "5      10:00 AM         NDL       Delhi  \n",
       "6      12:00 PM     Chennai   Tamilnadu  "
      ]
     },
     "execution_count": 11,
     "metadata": {},
     "output_type": "execute_result"
    }
   ],
   "source": [
    "\n",
    "df = pd.DataFrame(data)\n",
    "\n",
    "df.head(7)"
   ]
  },
  {
   "cell_type": "code",
   "execution_count": 13,
   "id": "89ffefbf-0cf5-4a75-be90-790a0048ff42",
   "metadata": {},
   "outputs": [
    {
     "data": {
      "text/html": [
       "<div>\n",
       "<style scoped>\n",
       "    .dataframe tbody tr th:only-of-type {\n",
       "        vertical-align: middle;\n",
       "    }\n",
       "\n",
       "    .dataframe tbody tr th {\n",
       "        vertical-align: top;\n",
       "    }\n",
       "\n",
       "    .dataframe thead th {\n",
       "        text-align: right;\n",
       "    }\n",
       "</style>\n",
       "<table border=\"1\" class=\"dataframe\">\n",
       "  <thead>\n",
       "    <tr style=\"text-align: right;\">\n",
       "      <th></th>\n",
       "      <th>Visitor_ID</th>\n",
       "      <th>Name</th>\n",
       "      <th>Age</th>\n",
       "      <th>Ticket_Price</th>\n",
       "      <th>Check_In_Time</th>\n",
       "      <th>City</th>\n",
       "      <th>State</th>\n",
       "    </tr>\n",
       "  </thead>\n",
       "  <tbody>\n",
       "    <tr>\n",
       "      <th>18</th>\n",
       "      <td>V1018</td>\n",
       "      <td>ROHIT DILIP BILWAL</td>\n",
       "      <td>19.0</td>\n",
       "      <td>750.0</td>\n",
       "      <td>04:00 PM</td>\n",
       "      <td>Ujjain</td>\n",
       "      <td>Madhya Pradesh</td>\n",
       "    </tr>\n",
       "    <tr>\n",
       "      <th>19</th>\n",
       "      <td>V1019</td>\n",
       "      <td>RITESH SHIVAJI BAIRAGI</td>\n",
       "      <td>19.0</td>\n",
       "      <td>NaN</td>\n",
       "      <td>NaN</td>\n",
       "      <td>Bangalore</td>\n",
       "      <td>Karnataka</td>\n",
       "    </tr>\n",
       "  </tbody>\n",
       "</table>\n",
       "</div>"
      ],
      "text/plain": [
       "   Visitor_ID                    Name   Age  Ticket_Price Check_In_Time  \\\n",
       "18      V1018      ROHIT DILIP BILWAL  19.0         750.0      04:00 PM   \n",
       "19      V1019  RITESH SHIVAJI BAIRAGI  19.0           NaN           NaN   \n",
       "\n",
       "         City           State  \n",
       "18     Ujjain  Madhya Pradesh  \n",
       "19  Bangalore       Karnataka  "
      ]
     },
     "execution_count": 13,
     "metadata": {},
     "output_type": "execute_result"
    }
   ],
   "source": [
    "df.tail(2)"
   ]
  },
  {
   "cell_type": "code",
   "execution_count": 15,
   "id": "23a5ba17-4466-4174-844b-a72205a90004",
   "metadata": {},
   "outputs": [
    {
     "data": {
      "text/plain": [
       "<bound method DataFrame.info of    Visitor_ID                                Name   Age  Ticket_Price  \\\n",
       "0       V1000     ABHISHEK SANDEEP      ZADE       25.0         500.0   \n",
       "1       V1001             ARNAV AJAY DESHPANDE..   23.0         750.0   \n",
       "2       V1002  .. .. ASHWINI LALCHAND MUNDAWARE/   22.0         500.0   \n",
       "3       V1003              GAYATRI SURESH GAIKWAD   NaN        1000.0   \n",
       "4       V1004           HARSHADA GANESH CHAUDHARI  21.0           NaN   \n",
       "5       V1005            VAIBHAVI HARISHWAR PATIL  25.0         500.0   \n",
       "6       V1006                                 NaN  24.0         700.0   \n",
       "7       V1007             VISHAKHA PUNDLIK JADHAV  24.0         650.0   \n",
       "8       V1008                YASH BHARAT SOLUNKE/  28.0         750.0   \n",
       "9       V1009               VIVEK SANTOSH KHANDWE   NaN        1000.0   \n",
       "10      V1010             VISHAKHA PUNDLIK JADHAV  22.0         500.0   \n",
       "11      V1011                  Tanushree chhanwal  23.0         800.0   \n",
       "12      V1012                      Shruti jaiswal  25.0           NaN   \n",
       "13      V1013                    Shriyash Sulakhe  27.0         750.0   \n",
       "14      V1014                 YASH BHARAT SOLUNKE  25.0         500.0   \n",
       "15      V1015                                 NaN  30.0         700.0   \n",
       "16      V1016                ARNAV AJAY DESHPANDE  31.0         900.0   \n",
       "17      V1017                RUTUJA SANTOSH THOTE  26.0         850.0   \n",
       "18      V1018                  ROHIT DILIP BILWAL  19.0         750.0   \n",
       "19      V1019              RITESH SHIVAJI BAIRAGI  19.0           NaN   \n",
       "\n",
       "   Check_In_Time        City           State  \n",
       "0       10:00 AM       Delhi           Delhi  \n",
       "1       10:30 AM  Aurangabad      Maharastra  \n",
       "2       11:00 AM      Mumbai      Maharastra  \n",
       "3       11:30 AM      Bombay      Maharastra  \n",
       "4            NaN   New Delhi           Delhi  \n",
       "5       10:00 AM         NDL           Delhi  \n",
       "6       12:00 PM     Chennai       Tamilnadu  \n",
       "7       12:30 PM      Chenai       Tamilnadu  \n",
       "8       01:00 PM    Chennaai       Tamilnadu  \n",
       "9       01:30 PM   Bangalore       Karnataka  \n",
       "10      11:00 AM       Delhi           Delhi  \n",
       "11      02:00 PM        Pune      Maharastra  \n",
       "12           NaN   New Delhi           Delhi  \n",
       "13      02:30 PM      Bombay      Maharastra  \n",
       "14      10:00 AM   New Delhi           Delhi  \n",
       "15      12:00 PM         NDL           Delhi  \n",
       "16      03:00 PM      Indore  Madhya Pradesh  \n",
       "17      03:30 PM   Bangalore       Karnataka  \n",
       "18      04:00 PM      Ujjain  Madhya Pradesh  \n",
       "19           NaN   Bangalore       Karnataka  >"
      ]
     },
     "execution_count": 15,
     "metadata": {},
     "output_type": "execute_result"
    }
   ],
   "source": [
    "df.info"
   ]
  },
  {
   "cell_type": "code",
   "execution_count": 19,
   "id": "7c3b8fb2-a951-460f-b662-d88337eff2e4",
   "metadata": {},
   "outputs": [
    {
     "data": {
      "text/plain": [
       "(20, 7)"
      ]
     },
     "execution_count": 19,
     "metadata": {},
     "output_type": "execute_result"
    }
   ],
   "source": [
    "\n",
    "df.shape "
   ]
  },
  {
   "cell_type": "code",
   "execution_count": 23,
   "id": "fadb19ce-4e33-40da-8fa5-a78d89893adf",
   "metadata": {},
   "outputs": [
    {
     "name": "stdout",
     "output_type": "stream",
     "text": [
      "0        ABHISHEK SANDEEP      ZADE     \n",
      "1                ARNAV AJAY DESHPANDE.. \n",
      "2     .. .. ASHWINI LALCHAND MUNDAWARE/ \n",
      "3                 GAYATRI SURESH GAIKWAD\n",
      "4              HARSHADA GANESH CHAUDHARI\n",
      "5               VAIBHAVI HARISHWAR PATIL\n",
      "6                                    NaN\n",
      "7                VISHAKHA PUNDLIK JADHAV\n",
      "8                   YASH BHARAT SOLUNKE/\n",
      "9                  VIVEK SANTOSH KHANDWE\n",
      "10               VISHAKHA PUNDLIK JADHAV\n",
      "11                    Tanushree chhanwal\n",
      "12                        Shruti jaiswal\n",
      "13                      Shriyash Sulakhe\n",
      "14                   YASH BHARAT SOLUNKE\n",
      "15                                   NaN\n",
      "16                  ARNAV AJAY DESHPANDE\n",
      "17                  RUTUJA SANTOSH THOTE\n",
      "18                    ROHIT DILIP BILWAL\n",
      "19                RITESH SHIVAJI BAIRAGI\n",
      "Name: Name, dtype: object\n"
     ]
    }
   ],
   "source": [
    "\n",
    "print(df['Name']) "
   ]
  },
  {
   "cell_type": "code",
   "execution_count": 25,
   "id": "f62bb9c8-cd88-4485-8aef-cde37e0d347d",
   "metadata": {},
   "outputs": [
    {
     "name": "stdout",
     "output_type": "stream",
     "text": [
      "Data type of 'Name' column: object\n"
     ]
    }
   ],
   "source": [
    "\n",
    "print(\"Data type of 'Name' column:\", df['Name'].dtype)"
   ]
  },
  {
   "cell_type": "code",
   "execution_count": 27,
   "id": "62d1e5f5-a754-4372-9946-908d70aa63de",
   "metadata": {},
   "outputs": [
    {
     "name": "stdout",
     "output_type": "stream",
     "text": [
      "Data type of 'Age' column: float64\n"
     ]
    }
   ],
   "source": [
    "print(\"Data type of 'Age' column:\", df['Age'].dtype)"
   ]
  },
  {
   "cell_type": "code",
   "execution_count": 29,
   "id": "f9f15bbb-70da-4326-bbf4-59e7b668a7d5",
   "metadata": {},
   "outputs": [
    {
     "data": {
      "text/plain": [
       "<bound method NDFrame.describe of    Visitor_ID                                Name   Age  Ticket_Price  \\\n",
       "0       V1000     ABHISHEK SANDEEP      ZADE       25.0         500.0   \n",
       "1       V1001             ARNAV AJAY DESHPANDE..   23.0         750.0   \n",
       "2       V1002  .. .. ASHWINI LALCHAND MUNDAWARE/   22.0         500.0   \n",
       "3       V1003              GAYATRI SURESH GAIKWAD   NaN        1000.0   \n",
       "4       V1004           HARSHADA GANESH CHAUDHARI  21.0           NaN   \n",
       "5       V1005            VAIBHAVI HARISHWAR PATIL  25.0         500.0   \n",
       "6       V1006                                 NaN  24.0         700.0   \n",
       "7       V1007             VISHAKHA PUNDLIK JADHAV  24.0         650.0   \n",
       "8       V1008                YASH BHARAT SOLUNKE/  28.0         750.0   \n",
       "9       V1009               VIVEK SANTOSH KHANDWE   NaN        1000.0   \n",
       "10      V1010             VISHAKHA PUNDLIK JADHAV  22.0         500.0   \n",
       "11      V1011                  Tanushree chhanwal  23.0         800.0   \n",
       "12      V1012                      Shruti jaiswal  25.0           NaN   \n",
       "13      V1013                    Shriyash Sulakhe  27.0         750.0   \n",
       "14      V1014                 YASH BHARAT SOLUNKE  25.0         500.0   \n",
       "15      V1015                                 NaN  30.0         700.0   \n",
       "16      V1016                ARNAV AJAY DESHPANDE  31.0         900.0   \n",
       "17      V1017                RUTUJA SANTOSH THOTE  26.0         850.0   \n",
       "18      V1018                  ROHIT DILIP BILWAL  19.0         750.0   \n",
       "19      V1019              RITESH SHIVAJI BAIRAGI  19.0           NaN   \n",
       "\n",
       "   Check_In_Time        City           State  \n",
       "0       10:00 AM       Delhi           Delhi  \n",
       "1       10:30 AM  Aurangabad      Maharastra  \n",
       "2       11:00 AM      Mumbai      Maharastra  \n",
       "3       11:30 AM      Bombay      Maharastra  \n",
       "4            NaN   New Delhi           Delhi  \n",
       "5       10:00 AM         NDL           Delhi  \n",
       "6       12:00 PM     Chennai       Tamilnadu  \n",
       "7       12:30 PM      Chenai       Tamilnadu  \n",
       "8       01:00 PM    Chennaai       Tamilnadu  \n",
       "9       01:30 PM   Bangalore       Karnataka  \n",
       "10      11:00 AM       Delhi           Delhi  \n",
       "11      02:00 PM        Pune      Maharastra  \n",
       "12           NaN   New Delhi           Delhi  \n",
       "13      02:30 PM      Bombay      Maharastra  \n",
       "14      10:00 AM   New Delhi           Delhi  \n",
       "15      12:00 PM         NDL           Delhi  \n",
       "16      03:00 PM      Indore  Madhya Pradesh  \n",
       "17      03:30 PM   Bangalore       Karnataka  \n",
       "18      04:00 PM      Ujjain  Madhya Pradesh  \n",
       "19           NaN   Bangalore       Karnataka  >"
      ]
     },
     "execution_count": 29,
     "metadata": {},
     "output_type": "execute_result"
    }
   ],
   "source": [
    "\n",
    "df.describe"
   ]
  },
  {
   "cell_type": "code",
   "execution_count": 31,
   "id": "227f08c6-e286-40f7-8eef-fa2d6b963991",
   "metadata": {},
   "outputs": [
    {
     "name": "stdout",
     "output_type": "stream",
     "text": [
      "   Visitor_ID                        Name\n",
      "0       V1000       ABHISHEK SANDEEP ZADE\n",
      "1       V1001        ARNAV AJAY DESHPANDE\n",
      "2       V1002  ASHWINI LALCHAND MUNDAWARE\n",
      "3       V1003      GAYATRI SURESH GAIKWAD\n",
      "4       V1004   HARSHADA GANESH CHAUDHARI\n",
      "5       V1005    VAIBHAVI HARISHWAR PATIL\n",
      "6       V1006                         NaN\n",
      "7       V1007     VISHAKHA PUNDLIK JADHAV\n",
      "8       V1008         YASH BHARAT SOLUNKE\n",
      "9       V1009       VIVEK SANTOSH KHANDWE\n",
      "10      V1010     VISHAKHA PUNDLIK JADHAV\n",
      "11      V1011          Tanushree chhanwal\n",
      "12      V1012              Shruti jaiswal\n",
      "13      V1013            Shriyash Sulakhe\n",
      "14      V1014         YASH BHARAT SOLUNKE\n",
      "15      V1015                         NaN\n",
      "16      V1016        ARNAV AJAY DESHPANDE\n",
      "17      V1017        RUTUJA SANTOSH THOTE\n",
      "18      V1018          ROHIT DILIP BILWAL\n",
      "19      V1019      RITESH SHIVAJI BAIRAGI\n"
     ]
    }
   ],
   "source": [
    "\n",
    "def clean_name(name):\n",
    "    \n",
    "    if pd.isna(name):\n",
    "        return name\n",
    "\n",
    "\n",
    "    \n",
    "    name = re.sub(r'[^a-zA-Z\\s]', '', name)  \n",
    "    \n",
    "    name = ' '.join(name.split())\n",
    "    return name\n",
    "\n",
    "df['Name'] = df['Name'].apply(clean_name)\n",
    "\n",
    "print(df[['Visitor_ID', 'Name']])\n"
   ]
  },
  {
   "cell_type": "code",
   "execution_count": 33,
   "id": "dcba049a-a9da-404a-b381-afa9b20035bd",
   "metadata": {},
   "outputs": [
    {
     "data": {
      "text/plain": [
       "<bound method DataFrame.drop_duplicates of    Visitor_ID                        Name   Age  Ticket_Price Check_In_Time  \\\n",
       "0       V1000       ABHISHEK SANDEEP ZADE  25.0         500.0      10:00 AM   \n",
       "1       V1001        ARNAV AJAY DESHPANDE  23.0         750.0      10:30 AM   \n",
       "2       V1002  ASHWINI LALCHAND MUNDAWARE  22.0         500.0      11:00 AM   \n",
       "3       V1003      GAYATRI SURESH GAIKWAD   NaN        1000.0      11:30 AM   \n",
       "4       V1004   HARSHADA GANESH CHAUDHARI  21.0           NaN           NaN   \n",
       "5       V1005    VAIBHAVI HARISHWAR PATIL  25.0         500.0      10:00 AM   \n",
       "6       V1006                         NaN  24.0         700.0      12:00 PM   \n",
       "7       V1007     VISHAKHA PUNDLIK JADHAV  24.0         650.0      12:30 PM   \n",
       "8       V1008         YASH BHARAT SOLUNKE  28.0         750.0      01:00 PM   \n",
       "9       V1009       VIVEK SANTOSH KHANDWE   NaN        1000.0      01:30 PM   \n",
       "10      V1010     VISHAKHA PUNDLIK JADHAV  22.0         500.0      11:00 AM   \n",
       "11      V1011          Tanushree chhanwal  23.0         800.0      02:00 PM   \n",
       "12      V1012              Shruti jaiswal  25.0           NaN           NaN   \n",
       "13      V1013            Shriyash Sulakhe  27.0         750.0      02:30 PM   \n",
       "14      V1014         YASH BHARAT SOLUNKE  25.0         500.0      10:00 AM   \n",
       "15      V1015                         NaN  30.0         700.0      12:00 PM   \n",
       "16      V1016        ARNAV AJAY DESHPANDE  31.0         900.0      03:00 PM   \n",
       "17      V1017        RUTUJA SANTOSH THOTE  26.0         850.0      03:30 PM   \n",
       "18      V1018          ROHIT DILIP BILWAL  19.0         750.0      04:00 PM   \n",
       "19      V1019      RITESH SHIVAJI BAIRAGI  19.0           NaN           NaN   \n",
       "\n",
       "          City           State  \n",
       "0        Delhi           Delhi  \n",
       "1   Aurangabad      Maharastra  \n",
       "2       Mumbai      Maharastra  \n",
       "3       Bombay      Maharastra  \n",
       "4    New Delhi           Delhi  \n",
       "5          NDL           Delhi  \n",
       "6      Chennai       Tamilnadu  \n",
       "7       Chenai       Tamilnadu  \n",
       "8     Chennaai       Tamilnadu  \n",
       "9    Bangalore       Karnataka  \n",
       "10       Delhi           Delhi  \n",
       "11        Pune      Maharastra  \n",
       "12   New Delhi           Delhi  \n",
       "13      Bombay      Maharastra  \n",
       "14   New Delhi           Delhi  \n",
       "15         NDL           Delhi  \n",
       "16      Indore  Madhya Pradesh  \n",
       "17   Bangalore       Karnataka  \n",
       "18      Ujjain  Madhya Pradesh  \n",
       "19   Bangalore       Karnataka  >"
      ]
     },
     "execution_count": 33,
     "metadata": {},
     "output_type": "execute_result"
    }
   ],
   "source": [
    "\n",
    "df.drop_duplicates"
   ]
  },
  {
   "cell_type": "code",
   "execution_count": 35,
   "id": "df24dd75-4fd8-4655-9ee6-ba19cc4935f0",
   "metadata": {},
   "outputs": [],
   "source": [
    "#point10\n",
    "import pandas as pd\n",
    "import matplotlib.pyplot as plt\n"
   ]
  },
  {
   "cell_type": "code",
   "execution_count": 37,
   "id": "9daaa001-d53f-4062-8409-f596bd5d03c0",
   "metadata": {},
   "outputs": [],
   "source": [
    "data = {\n",
    "    'Singer': ['Arijit Singh', 'Shreya Ghoshal', 'Sonu Nigam', 'Lata Mangeshkar', 'Kishore Kumar'],\n",
    "    'Years_Active': [15, 20, 30, 70, 40],\n",
    "    'Number_of_Songs': [500, 700, 600, 1000, 800],\n",
    "    'Awards_Won': [50, 60, 40, 100, 80]\n",
    "}\n"
   ]
  },
  {
   "cell_type": "code",
   "execution_count": 39,
   "id": "2eb853c7-223f-4eec-8b4d-fdc33889bfc5",
   "metadata": {},
   "outputs": [],
   "source": [
    "df = pd.DataFrame(data)"
   ]
  },
  {
   "cell_type": "code",
   "execution_count": 43,
   "id": "5af2e2c1-0d87-4243-9ee9-7f2884c9b2dc",
   "metadata": {},
   "outputs": [
    {
     "data": {
      "text/plain": [
       "<BarContainer object of 5 artists>"
      ]
     },
     "execution_count": 43,
     "metadata": {},
     "output_type": "execute_result"
    },
    {
     "data": {
      "image/png": "[encoded data removed]",
      "text/plain": [
       "<Figure size 640x480 with 1 Axes>"
      ]
     },
     "metadata": {},
     "output_type": "display_data"
    }
   ],
   "source": [
    "plt.bar(df['Singer'], df['Number_of_Songs'], color='pink')"
   ]
  },
  {
   "cell_type": "code",
   "execution_count": null,
   "id": "dc3d5d3f-b754-47ac-b4a5-f02b43944e33",
   "metadata": {},
   "outputs": [],
   "source": []
  }
 ],
 "metadata": {
  "kernelspec": {
   "display_name": "Python [conda env:base] *",
   "language": "python",
   "name": "conda-base-py"
  },
  "language_info": {
   "codemirror_mode": {
    "name": "ipython",
    "version": 3
   },
   "file_extension": ".py",
   "mimetype": "text/x-python",
   "name": "python",
   "nbconvert_exporter": "python",
   "pygments_lexer": "ipython3",
   "version": "3.12.7"
  }
 },
 "nbformat": 4,
 "nbformat_minor": 5
}
